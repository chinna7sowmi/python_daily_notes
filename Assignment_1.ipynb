{
 "cells": [
  {
   "cell_type": "raw",
   "id": "a910a86c",
   "metadata": {},
   "source": [
    "1. In the below elements which of them are values or an expression? eg:- values can be integer or string and expressions will be mathematical operators.\n",
    "* \n",
    "'hello'\n",
    "-87.8\n",
    "- \n",
    "/ \n",
    "6 \n",
    "\n",
    "Answers:-\n",
    "=======\n",
    "\n",
    "* -->expression\n",
    "'hello' -->value\n",
    "-87.8 -->value\n",
    "- -->expression\n",
    "/ -->expresssion\n",
    "6 -->value\n"
   ]
  },
  {
   "cell_type": "raw",
   "id": "d1a2a189",
   "metadata": {},
   "source": [
    "2. What is the difference between string and variable?\n",
    "\n",
    "Answer:-\n",
    "=====\n",
    "\n",
    "--> String is a type data stored in a variable where as variable is the name  of the place where the data is stored.\n",
    "\n",
    "eg:-\n",
    "===\n",
    "    a='Hello'\n",
    "    a--> name of the variable\n",
    "    \"Hello\"--> string type data."
   ]
  },
  {
   "cell_type": "raw",
   "id": "5843e252",
   "metadata": {},
   "source": [
    "3. Describe three different data types.\n",
    "\n",
    "Answer:-\n",
    "========\n",
    "\n",
    "There are many data types.Three of them are\n",
    "            1-->int\n",
    "            2-->complex\n",
    "            3-->bool\n",
    "int:-\n",
    "===\n",
    "\n",
    "-->we can use to represent the whole or integral numbers\n",
    "-->It is immutable\n",
    "eg:-\n",
    "===\n",
    "    m=123\n",
    "    type(m)\n",
    "    <class 'int'>\n",
    "complex:-\n",
    "=======\n",
    "-->we can use to represent complex numbers.\n",
    "-->It is immutable.\n",
    "-->complex umber is in the format of a+bj.where a is real part and b is the imaginary part.\n",
    "eg:-\n",
    "===\n",
    "    n=1+2j\n",
    "    type(n)\n",
    "    <class 'complex'>\n",
    "    n.real\n",
    "    1.0\n",
    "    c.imag\n",
    "    2.0\n",
    "    \n",
    "bool:-\n",
    "====\n",
    "-->we can use to represent the logical values those are True and False\n",
    "-->It is immutable\n",
    "eg:-\n",
    "===\n",
    "    z=True\n",
    "    y=False\n",
    "    type(z)\n",
    "    <class 'bool'>\n",
    "    "
   ]
  },
  {
   "cell_type": "raw",
   "id": "f600b955",
   "metadata": {},
   "source": [
    "4. What is an expression made up of? What do all expressions do?\n",
    "\n",
    "Answer:-\n",
    "=====\n",
    "-->An expression is made up of operators and operands.\n",
    "-->Operators means a symbol that performs creatin operations.\n",
    "-->And operands means values in variables.\n",
    "\n",
    "-->An expression is performs an operation on operands(values)\n",
    "\n",
    "eg:-\n",
    "==\n",
    "a=10\n",
    "b=20\n",
    "c=a+b\n",
    "\n",
    "where a,b,c are operands\n",
    "=,+ are operators."
   ]
  },
  {
   "cell_type": "raw",
   "id": "b9b87692",
   "metadata": {},
   "source": [
    "5. This assignment statements, like spam = 10. What is the difference between an expression and a statement?\n",
    "\n",
    "Answer:-\n",
    "======\n",
    "-->An expression is a combination of values or variables which always produces a result.\n",
    "eg:-\n",
    "==\n",
    "\n",
    "a=10\n",
    "b=20\n",
    "c=a+b\n",
    "\n",
    "-->Each and every line of code in the program is called as statement.\n",
    "\n",
    "eg:-\n",
    "==\n",
    "spam=10"
   ]
  },
  {
   "cell_type": "raw",
   "id": "30a9a3e0",
   "metadata": {},
   "source": [
    "6. After running the following code, what does the variable bacon contain?\n",
    "bacon = 22\n",
    "bacon + 1\n",
    "\n",
    "Answer:-\n",
    "======\n",
    "23"
   ]
  },
  {
   "cell_type": "raw",
   "id": "bdcf6831",
   "metadata": {},
   "source": [
    "7. What should the values of the following two terms be?\n",
    "'spam' + 'spamspam'\n",
    "'spam' * 3\n",
    "\n",
    "Answer:-\n",
    "======\n",
    "'spam' + 'spamspam' ---->'spamspamspam'\n",
    "'spam' * 3          ---->'spamspamspam'"
   ]
  },
  {
   "cell_type": "raw",
   "id": "3e2cf747",
   "metadata": {},
   "source": [
    "8. Why is eggs a valid variable name while 100 is invalid?\n",
    "\n",
    "Answer:-\n",
    "======\n",
    "-->eggs is valid because it don't start's with digit,special character(except underscore) and reserved word.\n",
    "-->100 is invalid beacause it starts with digit.In python programming language variable doesn't starts with a digit."
   ]
  },
  {
   "cell_type": "raw",
   "id": "ed4ecb21",
   "metadata": {},
   "source": [
    "9. What three functions can be used to get the integer, floating-point number, or string version of a value?\n",
    "\n",
    "Answer:-\n",
    "=====\n",
    "--->To get integer values we use int()\n",
    "eg:-\n",
    "==\n",
    "a=192.123\n",
    "int(a)\n",
    "192\n",
    "\n",
    "--->To get floating point values we use float()\n",
    "eg:-\n",
    "==\n",
    "b=192\n",
    "float(b)\n",
    "192.0\n",
    "\n",
    "--->To get string values we use str()\n",
    "eg:-\n",
    "==\n",
    "c=123\n",
    "str(c)\n",
    "'123'"
   ]
  },
  {
   "cell_type": "raw",
   "id": "09ee5b4d",
   "metadata": {},
   "source": [
    "10. Why does this expression cause an error? How can you fix it?\n",
    "'I have eaten ' + 99 + ' burritos.'\n",
    "\n",
    "Answer:-\n",
    "=====\n",
    "--->Because of 99 we are getting error.It(99) is int type.we can't concatenate string values with int values.\n",
    "--->To fix this error we want to convert 99 into string value by using str().Then it is working fine.\n",
    "--->After solving the error we will get the output like below\n",
    "\n",
    "'I have eaten 99 burritos.'"
   ]
  }
 ],
 "metadata": {
  "kernelspec": {
   "display_name": "Python 3 (ipykernel)",
   "language": "python",
   "name": "python3"
  },
  "language_info": {
   "codemirror_mode": {
    "name": "ipython",
    "version": 3
   },
   "file_extension": ".py",
   "mimetype": "text/x-python",
   "name": "python",
   "nbconvert_exporter": "python",
   "pygments_lexer": "ipython3",
   "version": "3.9.7"
  }
 },
 "nbformat": 4,
 "nbformat_minor": 5
}
